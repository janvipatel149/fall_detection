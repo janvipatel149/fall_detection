{
 "cells": [
  {
   "cell_type": "markdown",
   "metadata": {},
   "source": [
    "# database\n",
    "\n",
    "## schema : description of  database\n",
    "\n",
    "## MySQLdb : use for database connectivity\n",
    "\n",
    "\n",
    "db = sql.connect(\"localhost\",\"username\",\"pswd\",\"database_name\")\n",
    "\n",
    "## cursor \n",
    "            create a cursor\n",
    "      a= db.cursor()\n",
    "      \n",
    "db.execute()\n",
    "\n",
    "## commit: \n",
    "                 \n",
    "syntax: db.commit()\n",
    "      "
   ]
  },
  {
   "cell_type": "code",
   "execution_count": 1,
   "metadata": {},
   "outputs": [],
   "source": [
    "import MySQLdb as sql\n"
   ]
  },
  {
   "cell_type": "code",
   "execution_count": null,
   "metadata": {},
   "outputs": [],
   "source": []
  }
 ],
 "metadata": {
  "kernelspec": {
   "display_name": "Python 3",
   "language": "python",
   "name": "python3"
  },
  "language_info": {
   "codemirror_mode": {
    "name": "ipython",
    "version": 3
   },
   "file_extension": ".py",
   "mimetype": "text/x-python",
   "name": "python",
   "nbconvert_exporter": "python",
   "pygments_lexer": "ipython3",
   "version": "3.6.1"
  }
 },
 "nbformat": 4,
 "nbformat_minor": 2
}
