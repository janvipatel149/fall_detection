{
 "cells": [
  {
   "cell_type": "code",
   "execution_count": 8,
   "metadata": {},
   "outputs": [],
   "source": [
    "class name:\n",
    "    def __init__(self,n,m):\n",
    "        print(\"details\")\n",
    "        self.n=n\n",
    "        self.m=m\n",
    "        \n",
    "        \n",
    "    def s(self,c):\n",
    "        self.c=self.n+self.m\n",
    "        print(c)\n",
    "        \n",
    "    def t(self):\n",
    "        print(self.c)\n",
    "        \n",
    "        \n",
    "        a= name()\n",
    "        \n",
    "        \n",
    "        "
   ]
  },
  {
   "cell_type": "code",
   "execution_count": 9,
   "metadata": {},
   "outputs": [
    {
     "name": "stdout",
     "output_type": "stream",
     "text": [
      "details\n"
     ]
    }
   ],
   "source": [
    "a=name(2,3)"
   ]
  }
 ],
 "metadata": {
  "kernelspec": {
   "display_name": "Python 3",
   "language": "python",
   "name": "python3"
  },
  "language_info": {
   "codemirror_mode": {
    "name": "ipython",
    "version": 3
   },
   "file_extension": ".py",
   "mimetype": "text/x-python",
   "name": "python",
   "nbconvert_exporter": "python",
   "pygments_lexer": "ipython3",
   "version": "3.6.1"
  }
 },
 "nbformat": 4,
 "nbformat_minor": 2
}
